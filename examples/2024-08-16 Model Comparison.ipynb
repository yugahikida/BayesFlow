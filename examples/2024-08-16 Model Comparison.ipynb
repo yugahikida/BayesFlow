{
 "cells": [
  {
   "cell_type": "code",
   "id": "initial_id",
   "metadata": {
    "collapsed": true,
    "ExecuteTime": {
     "end_time": "2024-08-16T13:26:36.106962Z",
     "start_time": "2024-08-16T13:26:36.105062Z"
    }
   },
   "source": [
    "import os\n",
    "\n",
    "os.environ[\"KERAS_BACKEND\"] = \"torch\""
   ],
   "outputs": [],
   "execution_count": 1
  },
  {
   "metadata": {
    "ExecuteTime": {
     "end_time": "2024-08-16T13:26:37.673962Z",
     "start_time": "2024-08-16T13:26:36.125749Z"
    }
   },
   "cell_type": "code",
   "source": [
    "import bayesflow as bf\n",
    "import keras\n",
    "import numpy as np"
   ],
   "id": "f3bec372bfe8adb6",
   "outputs": [],
   "execution_count": 2
  },
  {
   "metadata": {
    "ExecuteTime": {
     "end_time": "2024-08-16T13:26:37.743495Z",
     "start_time": "2024-08-16T13:26:37.741546Z"
    }
   },
   "cell_type": "code",
   "source": [
    "def model_parameters():\n",
    "    recognition = np.random.beta(a=2, b=2)\n",
    "    guessing = np.random.beta(a=2, b=2)\n",
    "    \n",
    "    return dict(recognition=recognition, guessing=guessing)"
   ],
   "id": "1d19e8ff82f55cf8",
   "outputs": [],
   "execution_count": 3
  },
  {
   "metadata": {
    "ExecuteTime": {
     "end_time": "2024-08-16T13:26:37.785962Z",
     "start_time": "2024-08-16T13:26:37.783469Z"
    }
   },
   "cell_type": "code",
   "source": [
    "def model_1ht(recognition, guessing):\n",
    "    p00 = 1 - guessing\n",
    "    p01 = guessing\n",
    "    p10 = (1 - recognition) * (1 - guessing)\n",
    "    p11 = recognition + (1 - recognition) * guessing\n",
    "    \n",
    "    p = np.array([\n",
    "        [p00, p01],\n",
    "        [p10, p11],\n",
    "    ])\n",
    "    \n",
    "    return dict(p=p)"
   ],
   "id": "520f9030cfd4f545",
   "outputs": [],
   "execution_count": 4
  },
  {
   "metadata": {
    "ExecuteTime": {
     "end_time": "2024-08-16T13:26:37.829820Z",
     "start_time": "2024-08-16T13:26:37.827149Z"
    }
   },
   "cell_type": "code",
   "source": [
    "def model_2ht(recognition, guessing):\n",
    "    p00 = recognition + (1 - recognition) * (1 - guessing)\n",
    "    p01 = (1 - recognition) * guessing\n",
    "    p10 = (1 - recognition) * (1 - guessing)\n",
    "    p11 = recognition + (1 - recognition) * guessing\n",
    "    \n",
    "    p = np.array([\n",
    "        [p00, p01],\n",
    "        [p10, p11],\n",
    "    ])\n",
    "    \n",
    "    return dict(p=p)"
   ],
   "id": "9ee22001c9fd4989",
   "outputs": [],
   "execution_count": 5
  },
  {
   "metadata": {
    "ExecuteTime": {
     "end_time": "2024-08-16T13:26:37.874787Z",
     "start_time": "2024-08-16T13:26:37.872029Z"
    }
   },
   "cell_type": "code",
   "source": [
    "def response(p, n_obs=128):    \n",
    "    response_old = np.random.binomial(n=1, p=p[1, 1], size=(n_obs,))\n",
    "    response_new = np.random.binomial(n=1, p=p[0, 1], size=(n_obs,))\n",
    "    \n",
    "    return dict(response=np.stack([response_old, response_new], axis=-1))"
   ],
   "id": "a13202d4eecace8f",
   "outputs": [],
   "execution_count": 6
  },
  {
   "metadata": {
    "ExecuteTime": {
     "end_time": "2024-08-16T13:26:37.920015Z",
     "start_time": "2024-08-16T13:26:37.917981Z"
    }
   },
   "cell_type": "code",
   "source": [
    "model_1ht = bf.simulators.CompositeLambdaSimulator([model_parameters, model_1ht, response])\n",
    "model_2ht = bf.simulators.CompositeLambdaSimulator([model_parameters, model_2ht, response])"
   ],
   "id": "b844c5a305f30aeb",
   "outputs": [],
   "execution_count": 7
  },
  {
   "metadata": {
    "ExecuteTime": {
     "end_time": "2024-08-16T13:26:37.976635Z",
     "start_time": "2024-08-16T13:26:37.966705Z"
    }
   },
   "cell_type": "code",
   "source": [
    "example_batch = model_1ht.sample((256,), n_obs=64)\n",
    "example_shapes = keras.tree.map_structure(keras.ops.shape, example_batch)\n",
    "example_dtypes = keras.tree.map_structure(keras.ops.dtype, example_batch)\n",
    "\n",
    "print(\"Shapes:\", example_shapes)\n",
    "print(\"Dtypes:\", example_dtypes)"
   ],
   "id": "9c00656ac3bc85d9",
   "outputs": [
    {
     "name": "stdout",
     "output_type": "stream",
     "text": [
      "Shapes: {'recognition': (256, 1), 'guessing': (256, 1), 'p': (256, 2, 2), 'response': (256, 64, 2)}\n",
      "Dtypes: {'recognition': 'float32', 'guessing': 'float32', 'p': 'float32', 'response': 'int64'}\n"
     ]
    }
   ],
   "execution_count": 8
  },
  {
   "metadata": {
    "ExecuteTime": {
     "end_time": "2024-08-16T13:26:38.040480Z",
     "start_time": "2024-08-16T13:26:38.038477Z"
    }
   },
   "cell_type": "code",
   "source": [
    "data_adapter = bf.approximators.ModelComparisonApproximator.build_data_adapter(\n",
    "    summary_variables=[\"response\"],\n",
    ")"
   ],
   "id": "aceb50cc23889060",
   "outputs": [],
   "execution_count": 9
  },
  {
   "metadata": {
    "ExecuteTime": {
     "end_time": "2024-08-16T13:26:38.098917Z",
     "start_time": "2024-08-16T13:26:38.086853Z"
    }
   },
   "cell_type": "code",
   "source": [
    "approximator = bf.approximators.ModelComparisonApproximator(\n",
    "    num_models=2,\n",
    "    data_adapter=data_adapter,\n",
    "    # use super-small networks because this is an easy task\n",
    "    classifier_network=bf.networks.MLP(depth=2, width=256),\n",
    "    summary_network=bf.networks.DeepSet(summary_dim=32, depth=1, dropout=None, activation=\"relu\")\n",
    ")"
   ],
   "id": "7a0cdb6b89a0b253",
   "outputs": [],
   "execution_count": 10
  },
  {
   "metadata": {
    "ExecuteTime": {
     "end_time": "2024-08-16T13:26:38.181552Z",
     "start_time": "2024-08-16T13:26:38.176529Z"
    }
   },
   "cell_type": "code",
   "source": "approximator.compile(optimizer=\"adam\")",
   "id": "652714356b2b66db",
   "outputs": [],
   "execution_count": 11
  },
  {
   "metadata": {
    "ExecuteTime": {
     "end_time": "2024-08-16T13:30:44.124279Z",
     "start_time": "2024-08-16T13:26:38.224400Z"
    }
   },
   "cell_type": "code",
   "source": [
    "approximator.fit(\n",
    "    batch_size=32,\n",
    "    data_adapter=data_adapter,\n",
    "    epochs=10,\n",
    "    memory_budget=\"2 GB\",\n",
    "    num_batches=1000,\n",
    "    simulators=[model_1ht, model_2ht],\n",
    "    max_queue_size=1000,\n",
    ")"
   ],
   "id": "9099a7ddd747ed7d",
   "outputs": [
    {
     "name": "stderr",
     "output_type": "stream",
     "text": [
      "INFO:bayesflow:Building model comparison simulator from 2 simulators.\n",
      "INFO:bayesflow:Building dataset from simulator instance of ModelComparisonSimulator.\n",
      "INFO:bayesflow:Using 16 data loading workers.\n",
      "INFO:bayesflow:Building on a test batch.\n"
     ]
    },
    {
     "name": "stdout",
     "output_type": "stream",
     "text": [
      "Epoch 1/10\n",
      "\u001B[1m1000/1000\u001B[0m \u001B[32m━━━━━━━━━━━━━━━━━━━━\u001B[0m\u001B[37m\u001B[0m \u001B[1m28s\u001B[0m 28ms/step - classifier/loss: 0.6453 - loss: 0.6453\n",
      "Epoch 2/10\n",
      "\u001B[1m1000/1000\u001B[0m \u001B[32m━━━━━━━━━━━━━━━━━━━━\u001B[0m\u001B[37m\u001B[0m \u001B[1m25s\u001B[0m 25ms/step - classifier/loss: 0.5307 - loss: 0.5307\n",
      "Epoch 3/10\n",
      "\u001B[1m1000/1000\u001B[0m \u001B[32m━━━━━━━━━━━━━━━━━━━━\u001B[0m\u001B[37m\u001B[0m \u001B[1m25s\u001B[0m 25ms/step - classifier/loss: 0.5370 - loss: 0.5370\n",
      "Epoch 4/10\n",
      "\u001B[1m1000/1000\u001B[0m \u001B[32m━━━━━━━━━━━━━━━━━━━━\u001B[0m\u001B[37m\u001B[0m \u001B[1m25s\u001B[0m 25ms/step - classifier/loss: 0.5276 - loss: 0.5276\n",
      "Epoch 5/10\n",
      "\u001B[1m1000/1000\u001B[0m \u001B[32m━━━━━━━━━━━━━━━━━━━━\u001B[0m\u001B[37m\u001B[0m \u001B[1m25s\u001B[0m 25ms/step - classifier/loss: 0.5242 - loss: 0.5242\n",
      "Epoch 6/10\n",
      "\u001B[1m1000/1000\u001B[0m \u001B[32m━━━━━━━━━━━━━━━━━━━━\u001B[0m\u001B[37m\u001B[0m \u001B[1m24s\u001B[0m 24ms/step - classifier/loss: 0.5304 - loss: 0.5304\n",
      "Epoch 7/10\n",
      "\u001B[1m1000/1000\u001B[0m \u001B[32m━━━━━━━━━━━━━━━━━━━━\u001B[0m\u001B[37m\u001B[0m \u001B[1m25s\u001B[0m 25ms/step - classifier/loss: 0.5274 - loss: 0.5274\n",
      "Epoch 8/10\n",
      "\u001B[1m1000/1000\u001B[0m \u001B[32m━━━━━━━━━━━━━━━━━━━━\u001B[0m\u001B[37m\u001B[0m \u001B[1m24s\u001B[0m 24ms/step - classifier/loss: 0.5285 - loss: 0.5285\n",
      "Epoch 9/10\n",
      "\u001B[1m1000/1000\u001B[0m \u001B[32m━━━━━━━━━━━━━━━━━━━━\u001B[0m\u001B[37m\u001B[0m \u001B[1m22s\u001B[0m 22ms/step - classifier/loss: 0.5171 - loss: 0.5171\n",
      "Epoch 10/10\n",
      "\u001B[1m1000/1000\u001B[0m \u001B[32m━━━━━━━━━━━━━━━━━━━━\u001B[0m\u001B[37m\u001B[0m \u001B[1m24s\u001B[0m 24ms/step - classifier/loss: 0.5305 - loss: 0.5305\n"
     ]
    },
    {
     "data": {
      "text/plain": [
       "<keras.src.callbacks.history.History at 0x78e5b21177d0>"
      ]
     },
     "execution_count": 12,
     "metadata": {},
     "output_type": "execute_result"
    }
   ],
   "execution_count": 12
  },
  {
   "metadata": {
    "ExecuteTime": {
     "end_time": "2024-08-16T13:30:44.132210Z",
     "start_time": "2024-08-16T13:30:44.130899Z"
    }
   },
   "cell_type": "code",
   "source": "",
   "id": "18a417dba64bcde9",
   "outputs": [],
   "execution_count": null
  }
 ],
 "metadata": {
  "kernelspec": {
   "display_name": "Python 3",
   "language": "python",
   "name": "python3"
  },
  "language_info": {
   "codemirror_mode": {
    "name": "ipython",
    "version": 2
   },
   "file_extension": ".py",
   "mimetype": "text/x-python",
   "name": "python",
   "nbconvert_exporter": "python",
   "pygments_lexer": "ipython2",
   "version": "2.7.6"
  }
 },
 "nbformat": 4,
 "nbformat_minor": 5
}
