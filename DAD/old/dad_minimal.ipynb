{
  "cells": [
    {
      "cell_type": "code",
      "execution_count": 1,
      "metadata": {
        "id": "exHXrAUclSCu"
      },
      "outputs": [],
      "source": [
        "import math\n",
        "\n",
        "import torch\n",
        "import torch.nn as nn\n",
        "import torch.distributions as dist\n",
        "\n",
        "from torch import Tensor\n",
        "from torch.distributions import Distribution"
      ]
    },
    {
      "cell_type": "code",
      "execution_count": 2,
      "metadata": {
        "id": "aiDkBuyfnF_i"
      },
      "outputs": [],
      "source": [
        "# \"Abstract\" classes: roughly how these should look like. The methods that\n",
        "# raise Not Implemented errors must be implemented for each specific model\n",
        "# (example with a simple linear model given below)\n",
        "\n",
        "class SimulatorBasedModel(nn.Module):\n",
        "  def __init__(self, prior: Distribution, design_net: nn.Module, T: int) -> None:\n",
        "    super().__init__()\n",
        "    self.prior = prior\n",
        "    self.design_net = design_net\n",
        "    self.T = T\n",
        "\n",
        "  def outcome_simulator(self, params: Tensor, designs: Tensor) -> Tensor:\n",
        "    raise NotImplemented\n",
        "\n",
        "  def forward(self, batch_size: int | None = None) -> tuple[Tensor, Tensor, Tensor]: # call\n",
        "    prior_params = self.prior.sample(torch.Size([batch_size])) # [B, param_dim]\n",
        "    designs = []\n",
        "    outcomes = []\n",
        "    for t in range(self.T):\n",
        "      # get design:\n",
        "      xi = self.design_net(designs, outcomes)\n",
        "      y = self.outcome_simulator(params=prior_params, designs=xi)\n",
        "\n",
        "      designs.append(xi)\n",
        "      outcomes.append(y)\n",
        "\n",
        "    return prior_params, designs, outcomes\n",
        "\n",
        "class LikelihoodBasedModel(SimulatorBasedModel):\n",
        "  def __init__(self, prior: Distribution, design_net: nn.Module, T: int) -> None:\n",
        "    super().__init__(prior=prior, design_net=design_net, T=T)\n",
        "\n",
        "  def outcome_likelihood(self, params: Tensor, designs: Tensor) -> Distribution:\n",
        "    raise NotImplemented\n",
        "\n",
        "  def outcome_simulator(self, params: Tensor, designs: Tensor) -> Tensor:\n",
        "    return self.outcome_likelihood(params, designs).sample()"
      ]
    },
    {
      "cell_type": "markdown",
      "metadata": {
        "id": "65pYCKU5uM0y"
      },
      "source": [
        "------"
      ]
    },
    {
      "cell_type": "code",
      "execution_count": 3,
      "metadata": {
        "id": "IERJ7fIts3k0"
      },
      "outputs": [],
      "source": [
        "batch_size = 256\n",
        "\n",
        "class DeepAdaptiveDesign(nn.Module):\n",
        "  def __init__(\n",
        "      self,\n",
        "      encoder_net: nn.Module,\n",
        "      decoder_net: nn.Module,\n",
        "      design_shape: torch.Size\n",
        "    ) -> None:\n",
        "    #\n",
        "    super().__init__()\n",
        "    self.design_shape = design_shape\n",
        "    # initialise first design with random normal inititialisation\n",
        "    self.register_parameter(\n",
        "        \"initial_design\",\n",
        "        nn.Parameter(1.0 * torch.ones(design_shape, dtype=torch.float32))\n",
        "    )\n",
        "    self.encoder_net = encoder_net\n",
        "    self.decoder_net = decoder_net\n",
        "\n",
        "  def forward(self, designs=list[Tensor], outcomes=list[Tensor]) -> Tensor:\n",
        "    if len(outcomes) == 0:\n",
        "      return self.initial_design.expand(batch_size, *self.design_shape) \n",
        "    else:\n",
        "      # embed design-outcome pairs\n",
        "      embeddings = torch.stack([self.encoder_net(xi, y) for (xi, y) in zip(designs, outcomes)], dim = 0).sum(dim = 0)\n",
        "      # get next design\n",
        "      next_design = self.decoder_net(embeddings)\n",
        "    return next_design"
      ]
    },
    {
      "cell_type": "code",
      "execution_count": 4,
      "metadata": {
        "id": "ZAGAgYNBe1iG"
      },
      "outputs": [],
      "source": [
        "class EncoderNetwork(nn.Module):\n",
        "    def __init__(\n",
        "        self,\n",
        "        xi_dim,\n",
        "        y_dim,\n",
        "        hidden_dim,\n",
        "        encoding_dim,\n",
        "        n_hidden_layers=2,\n",
        "        activation=nn.Softplus,\n",
        "    ):\n",
        "        super().__init__()\n",
        "        self.encoding_dim = encoding_dim\n",
        "        self.activation_layer = activation()\n",
        "        self.input_layer = nn.Linear(xi_dim + y_dim, hidden_dim)\n",
        "        if n_hidden_layers > 1:\n",
        "            self.middle = nn.Sequential(\n",
        "                *[\n",
        "                    nn.Sequential(nn.Linear(hidden_dim, hidden_dim), activation())\n",
        "                    for _ in range(n_hidden_layers - 1)\n",
        "                ]\n",
        "            )\n",
        "        else:\n",
        "            self.middle = nn.Identity()\n",
        "        self.output_layer = nn.Linear(hidden_dim, encoding_dim)\n",
        "\n",
        "    def forward(self, xi, y, **kwargs):\n",
        "        inputs = torch.concat([xi, y], dim=-1) # [B, xi_dim + y_dim]\n",
        "        x = self.input_layer(inputs)\n",
        "        x = self.activation_layer(x)\n",
        "        x = self.middle(x)\n",
        "        x = self.output_layer(x)\n",
        "        return x\n",
        "\n",
        "class EmitterNetwork(nn.Module):\n",
        "  def __init__(\n",
        "        self,\n",
        "        input_dim, # summary_dim\n",
        "        hidden_dim,\n",
        "        output_dim, # xi_dim\n",
        "        n_hidden_layers=2,\n",
        "        scale = 5,\n",
        "        activation=nn.Softplus,\n",
        "    ):\n",
        "    super().__init__()\n",
        "    self.activation_layer = activation()\n",
        "    self.input_layer = nn.Linear(input_dim, hidden_dim)\n",
        "    if n_hidden_layers > 1:\n",
        "      self.middle = nn.Sequential(\n",
        "         *[\n",
        "            nn.Sequential(nn.Linear(hidden_dim, hidden_dim), activation())\n",
        "            for _ in range(n_hidden_layers - 1)\n",
        "          ]\n",
        "            )\n",
        "    else:\n",
        "      self.middle = nn.Identity()\n",
        "\n",
        "    self.output_layer = nn.Sequential(nn.Linear(hidden_dim, output_dim),\n",
        "                                      nn.Tanh(),\n",
        "                                      ScalingLayer(scale = scale))\n",
        "\n",
        "    # self.output_layer = nn.Sequential(nn.LayerNorm(hidden_dim),\n",
        "    #                                   nn.Linear(hidden_dim, output_dim))\n",
        "\n",
        "  def forward(self, r):\n",
        "    x = self.input_layer(r)\n",
        "    x = self.activation_layer(x)\n",
        "    x = self.middle(x)\n",
        "    x = self.output_layer(x)\n",
        "    return x\n",
        "\n",
        "class ScalingLayer(nn.Module):\n",
        "  def __init__(self, scale):\n",
        "    super().__init__()\n",
        "    self.scale = scale\n",
        "\n",
        "  def forward(self, x):\n",
        "    return x * self.scale"
      ]
    },
    {
      "cell_type": "code",
      "execution_count": 5,
      "metadata": {},
      "outputs": [],
      "source": [
        "# Polynomial regression\n",
        "class PolynomialReg(LikelihoodBasedModel):\n",
        "  def __init__(\n",
        "      self,\n",
        "      prior: Distribution,\n",
        "      design_net: nn.Module,\n",
        "      T: int,\n",
        "      observation_sd: float\n",
        "      ) -> None:\n",
        "    super().__init__(prior=prior, design_net=design_net, T=T)\n",
        "    self.register_buffer(\"observation_sd\", torch.tensor(observation_sd))\n",
        "\n",
        "  def outcome_likelihood(\n",
        "      self,\n",
        "      params: Tensor, # [B, param_dim]\n",
        "      designs: Tensor # [B, design_dim]\n",
        "    ) -> Distribution:\n",
        "\n",
        "    designs_powers = torch.concat([torch.ones_like(designs), designs, designs**2, designs**3], dim = -1)\n",
        "    mean_outcome = (designs_powers * params).sum(-1, keepdim=True) # [B, 1]\n",
        "\n",
        "    return dist.Normal(mean_outcome, self.observation_sd)"
      ]
    },
    {
      "cell_type": "code",
      "execution_count": 7,
      "metadata": {
        "id": "mpkU5Qc3dJ7u"
      },
      "outputs": [],
      "source": [
        "xi_dim = 1\n",
        "param_dim = 4\n",
        "T = 5\n",
        "batch_size = 256\n",
        "\n",
        "prior = dist.MultivariateNormal(torch.tensor([5., 3., 0., 0.]), torch.diag(torch.tensor([2., 1., 0.8, 0.5])))\n",
        "encoder_net = EncoderNetwork(xi_dim = 1, y_dim = 1, hidden_dim = 32, encoding_dim = 10)\n",
        "decoder_net = EmitterNetwork(input_dim = 10, hidden_dim = 2, output_dim = 1)\n",
        "design_net = DeepAdaptiveDesign(design_shape = torch.Size([xi_dim]), encoder_net = encoder_net, decoder_net = decoder_net)\n",
        "model = PolynomialReg(prior, design_net, T=T, observation_sd=1.0)"
      ]
    },
    {
      "cell_type": "markdown",
      "metadata": {
        "id": "5MDi0T_zuOkk"
      },
      "source": [
        "-------"
      ]
    },
    {
      "cell_type": "code",
      "execution_count": 9,
      "metadata": {
        "id": "e052WK0vmEuC"
      },
      "outputs": [],
      "source": [
        "class MutualInformation(nn.Module):\n",
        "  def __init__(self, joint_model, batch_size: int) -> None:\n",
        "    super().__init__()\n",
        "    self.joint_model = joint_model\n",
        "    self.batch_size = batch_size\n",
        "\n",
        "  def forward(self) -> Tensor:\n",
        "    raise NotImplemented\n",
        "\n",
        "  def estimate(num_eval_samples) -> float:\n",
        "    raise NotImplemented\n",
        "\n",
        "class NestedMonteCarlo(MutualInformation):\n",
        "  def __init__(\n",
        "      self,\n",
        "      joint_model: LikelihoodBasedModel,\n",
        "      batch_size: int,\n",
        "      num_negative_samples: int,\n",
        "      lower_bound: bool = True\n",
        "      ) -> None:\n",
        "    super().__init__(joint_model=joint_model, batch_size=batch_size)\n",
        "    self.num_negative_samples = num_negative_samples #L\n",
        "    self.lower_bound = lower_bound\n",
        "\n",
        "  def forward(self) -> Tensor:\n",
        "    # if lower_bound is false, we compute\n",
        "    # mean_i { log [p(y_i | primary_i) / sum_j { p(y_i | contrastive_j) }] }\n",
        "    # otherwise, mean_i { log [ p(y_i | primary_i)  / (p(y_i| primary_i + sum_j { p(y_i | contrastive_j) } ] }\n",
        "\n",
        "    prior_samples_primary, designs, outcomes = self.joint_model(self.batch_size)\n",
        "    # we can resuse negative samples\n",
        "    prior_samples_negative = self.joint_model.prior.sample(\n",
        "        torch.Size([self.num_negative_samples])\n",
        "    ).unsqueeze(1) # [num_neg_samples, ...] -> [num_neg_samples, 1, ...]\n",
        "\n",
        "    # evaluate the logprob of outcomes under the primary:\n",
        "    logprob_primary = torch.stack([\n",
        "        self.joint_model.outcome_likelihood(\n",
        "            prior_samples_primary, xi\n",
        "        ).log_prob(y) for (xi, y) in zip(designs, outcomes)\n",
        "    ], dim=0).sum(0) # [T, B] -> [B]\n",
        "\n",
        "    # evaluate the logprob of outcomes under the contrastive parameter samples:\n",
        "    logprob_negative = torch.stack([\n",
        "        self.joint_model.outcome_likelihood(\n",
        "            prior_samples_negative, xi.unsqueeze(0) # add dim for <num_neg_samples>\n",
        "        ).log_prob(y.unsqueeze(0)) for (xi, y) in zip(designs, outcomes)\n",
        "    ], dim=0).sum(0) # [T, num_neg_samples, B] -> [num_neg_samples, B]\n",
        "\n",
        "    # if lower bound, log_prob primary should be added to the denominator\n",
        "    if self.lower_bound:\n",
        "      # concat primary and negative to get [negative_b + 1, B] for the logsumexp\n",
        "      logprob_negative = torch.cat([\n",
        "          logprob_negative, logprob_primary.unsqueeze(0)]\n",
        "      ) # [num_neg_samples + 1, B]\n",
        "      to_logmeanexp = math.log(self.num_negative_samples + 1)\n",
        "    else:\n",
        "      to_logmeanexp = math.log(self.num_negative_samples)\n",
        "\n",
        "    log_denom = torch.logsumexp(logprob_negative, dim=0) - to_logmeanexp # [B]\n",
        "    mi = (logprob_primary - log_denom).mean(0) # [B] -> scalar\n",
        "    return -mi\n",
        "\n",
        "  def estimate(self) -> float:\n",
        "    with torch.no_grad():\n",
        "      loss = self.forward()\n",
        "    return -loss.item()"
      ]
    },
    {
      "cell_type": "code",
      "execution_count": 10,
      "metadata": {
        "colab": {
          "base_uri": "https://localhost:8080/"
        },
        "id": "Dh6Ts7iJmhNZ",
        "outputId": "72fb5264-9508-4d4b-850a-48408e6191af"
      },
      "outputs": [
        {
          "name": "stdout",
          "output_type": "stream",
          "text": [
            "MI estimate=3.809696912765503\n"
          ]
        }
      ],
      "source": [
        "# instantiate the MI lower bound objective\n",
        "pce_loss = NestedMonteCarlo(\n",
        "    joint_model=model,\n",
        "    batch_size=batch_size,\n",
        "    num_negative_samples=256\n",
        ")\n",
        "\n",
        "# with the current (randomly initialised) design, we get this MI:\n",
        "print(f\"MI estimate={pce_loss.estimate()}\")"
      ]
    },
    {
      "cell_type": "code",
      "execution_count": 16,
      "metadata": {
        "colab": {
          "base_uri": "https://localhost:8080/"
        },
        "id": "_5bFsG_ocLtz",
        "outputId": "d1824e28-a8a0-4839-e727-3dfdeb8f94a0"
      },
      "outputs": [
        {
          "name": "stdout",
          "output_type": "stream",
          "text": [
            "\n",
            "***\n",
            "MI estimate before train=5.065495014190674\n"
          ]
        },
        {
          "name": "stderr",
          "output_type": "stream",
          "text": [
            "  0%|          | 0/1000 [00:00<?, ?it/s]"
          ]
        },
        {
          "name": "stderr",
          "output_type": "stream",
          "text": [
            "100%|██████████| 1000/1000 [00:24<00:00, 41.15it/s]\n"
          ]
        },
        {
          "name": "stdout",
          "output_type": "stream",
          "text": [
            "tensor([-4.9341], grad_fn=<NegBackward0>)\n"
          ]
        },
        {
          "name": "stderr",
          "output_type": "stream",
          "text": [
            "100%|██████████| 1000/1000 [00:23<00:00, 42.10it/s]\n"
          ]
        },
        {
          "name": "stdout",
          "output_type": "stream",
          "text": [
            "tensor([-5.0597], grad_fn=<NegBackward0>)\n"
          ]
        },
        {
          "name": "stderr",
          "output_type": "stream",
          "text": [
            "100%|██████████| 1000/1000 [00:24<00:00, 41.50it/s]\n"
          ]
        },
        {
          "name": "stdout",
          "output_type": "stream",
          "text": [
            "tensor([-5.5321], grad_fn=<NegBackward0>)\n"
          ]
        },
        {
          "name": "stderr",
          "output_type": "stream",
          "text": [
            "100%|██████████| 1000/1000 [00:23<00:00, 41.96it/s]\n"
          ]
        },
        {
          "name": "stdout",
          "output_type": "stream",
          "text": [
            "tensor([-5.2439], grad_fn=<NegBackward0>)\n"
          ]
        },
        {
          "name": "stderr",
          "output_type": "stream",
          "text": [
            "100%|██████████| 1000/1000 [00:24<00:00, 41.47it/s]"
          ]
        },
        {
          "name": "stdout",
          "output_type": "stream",
          "text": [
            "tensor([-5.5491], grad_fn=<NegBackward0>)\n",
            "\n",
            "***\n",
            "MI estimate after train=5.549076080322266\n"
          ]
        },
        {
          "name": "stderr",
          "output_type": "stream",
          "text": [
            "\n"
          ]
        }
      ],
      "source": [
        "# train designs online (sampling from the model and opimising eg with Adam)\n",
        "# For the linear model the optimal designs should go to +/- infinity\n",
        "\n",
        "from torch.optim import Adam\n",
        "from tqdm import tqdm\n",
        "\n",
        "print(\"\\n***\")\n",
        "print(f\"MI estimate before train={pce_loss.estimate()}\")\n",
        "# print(f\"Initial designs (before train) {model.design_net.designs}\")\n",
        "epoch = 5\n",
        "num_steps = 1000\n",
        "optimizer = Adam(model.parameters(), lr=0.1)\n",
        "for epoch in range(epoch):\n",
        "  for _ in tqdm(range(num_steps)):\n",
        "    optimizer.zero_grad()\n",
        "    loss = pce_loss()\n",
        "    loss.backward()\n",
        "    optimizer.step()\n",
        "  print(loss)\n",
        "  \n",
        "print(\"\\n***\")\n",
        "print(f\"MI estimate after train={pce_loss.estimate()}\")"
      ]
    },
    {
      "cell_type": "code",
      "execution_count": 17,
      "metadata": {},
      "outputs": [],
      "source": [
        "params, designs, outcomes = model(batch_size=batch_size)"
      ]
    },
    {
      "cell_type": "code",
      "execution_count": 18,
      "metadata": {},
      "outputs": [
        {
          "data": {
            "image/png": "[encoded data removed]",
            "text/plain": [
              "<Figure size 640x480 with 1 Axes>"
            ]
          },
          "metadata": {},
          "output_type": "display_data"
        }
      ],
      "source": [
        "import matplotlib.pyplot as plt\n",
        "\n",
        "colors = ['red', 'green', 'blue', 'orange'] # [theta_0, theta_1, theta_2, theta_3]\n",
        "\n",
        "for i in range(50):\n",
        "    for j in range(4):\n",
        "        plt.scatter(i, params[i, j].item(), color=colors[j])\n",
        "plt.gca().invert_xaxis()\n",
        "plt.title('Parameter values')\n",
        "plt.show()"
      ]
    },
    {
      "cell_type": "code",
      "execution_count": 19,
      "metadata": {},
      "outputs": [
        {
          "data": {
            "image/png": "[encoded data removed]",
            "text/plain": [
              "<Figure size 640x480 with 1 Axes>"
            ]
          },
          "metadata": {},
          "output_type": "display_data"
        }
      ],
      "source": [
        "for t in range(len(designs)):\n",
        "    for i in range(50):\n",
        "        plt.scatter(t + 1, designs[t][i].detach().numpy())\n",
        "plt.xlabel(\"t\")\n",
        "plt.ylabel(\"xi\")\n",
        "plt.title(\"Sampled designs for 50 different runs\")\n",
        "plt.show()"
      ]
    },
    {
      "cell_type": "code",
      "execution_count": null,
      "metadata": {},
      "outputs": [],
      "source": []
    }
  ],
  "metadata": {
    "colab": {
      "provenance": []
    },
    "kernelspec": {
      "display_name": "bayesflow",
      "language": "python",
      "name": "python3"
    },
    "language_info": {
      "codemirror_mode": {
        "name": "ipython",
        "version": 3
      },
      "file_extension": ".py",
      "mimetype": "text/x-python",
      "name": "python",
      "nbconvert_exporter": "python",
      "pygments_lexer": "ipython3",
      "version": "3.11.9"
    }
  },
  "nbformat": 4,
  "nbformat_minor": 0
}
