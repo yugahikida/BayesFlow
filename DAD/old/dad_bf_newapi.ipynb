{
 "cells": [
  {
   "cell_type": "code",
   "execution_count": 1,
   "metadata": {},
   "outputs": [
    {
     "name": "stdout",
     "output_type": "stream",
     "text": [
      "Use torch backend\n"
     ]
    },
    {
     "name": "stderr",
     "output_type": "stream",
     "text": [
      "/opt/miniconda3/envs/bayesflow/lib/python3.11/site-packages/keras/src/backend/torch/numpy.py:870: UserWarning: The operator 'aten::logspace.out' is not currently supported on the MPS backend and will fall back to run on the CPU. This may have performance implications. (Triggered internally at /Users/runner/miniforge3/conda-bld/libtorch_1715184405838/work/aten/src/ATen/mps/MPSFallback.mm:13.)\n",
      "  torch.logspace(\n"
     ]
    }
   ],
   "source": [
    "# setup\n",
    "import os\n",
    "os.environ[\"KERAS_BACKEND\"] = \"torch\"\n",
    "os.environ[\"PYTORCH_ENABLE_MPS_FALLBACK\"] = \"1\"\n",
    "\n",
    "import keras\n",
    "\n",
    "if keras.backend.backend() == \"torch\":\n",
    "    import torch\n",
    "    print(\"Use torch backend\")\n",
    "    torch.autograd.set_grad_enabled(False)\n",
    "\n",
    "import sys\n",
    "# current_dir = os.path.dirname(os.path.abspath(__file__))\n",
    "sys.path.append(os.path.join(\"../\"))\n",
    "sys.path.append(os.path.join(\"../../\"))\n",
    "\n",
    "import bayesflow as bf\n",
    "\n",
    "import matplotlib.pyplot as plt\n",
    "import seaborn as sns\n",
    "import numpy as np"
   ]
  },
  {
   "cell_type": "code",
   "execution_count": 2,
   "metadata": {},
   "outputs": [],
   "source": [
    "from bayesflow.simulators.simulator import Simulator\n",
    "# from bayesflow.types import Shape, Tensor\n",
    "from torch import Tensor\n",
    "from torch.distributions import Distribution\n",
    "import torch.nn as nn"
   ]
  },
  {
   "cell_type": "code",
   "execution_count": 31,
   "metadata": {},
   "outputs": [],
   "source": [
    "from custom_simulators import GenericSimulator, LikelihoodBasedModel, ParameterMask, Prior, RandomNumObs\n",
    "from design_networks import RandomDesign, DeepAdaptiveDesign, EmitterNetwork, EncoderNetwork\n",
    "from design_loss import NestedMonteCarlo"
   ]
  },
  {
   "cell_type": "code",
   "execution_count": 32,
   "metadata": {},
   "outputs": [],
   "source": [
    "from experiment_1 import PolynomialRegression, PriorPolynomialReg\n",
    "from custom_dataset import DataSet"
   ]
  },
  {
   "cell_type": "code",
   "execution_count": 33,
   "metadata": {},
   "outputs": [],
   "source": [
    "inference_network = bf.networks.FlowMatching() # bf.networks.CouplingFlow()\n",
    "summary_network = bf.networks.DeepSet(summary_dim = 10)\n",
    "\n",
    "approximator = bf.Approximator(\n",
    "        inference_network = inference_network,\n",
    "        summary_network = summary_network,\n",
    "        inference_variables = [\"params\"],\n",
    "        inference_conditions = [\"masks\", \"n_obs\"],\n",
    "        summary_variables = [\"outcomes\", \"designs\"])"
   ]
  },
  {
   "cell_type": "code",
   "execution_count": 35,
   "metadata": {},
   "outputs": [],
   "source": [
    "design_shape = torch.Size([1])\n",
    "mask_sampler = ParameterMask()\n",
    "prior_sampler = PriorPolynomialReg()\n",
    "T = 5\n",
    "random_num_obs = RandomNumObs(min_obs = 1, max_obs = T)\n",
    "random_design_generator = RandomDesign(design_shape = design_shape, scaler = 5)\n",
    "\n",
    "model_1 = PolynomialRegression(mask_sampler = mask_sampler,\n",
    "                                        prior_sampler = prior_sampler,\n",
    "                                        tau_sampler = random_num_obs,\n",
    "                                        design_generator = random_design_generator,\n",
    "                                        sim_vars = {\"sigma\": 1.0})\n",
    "\n",
    "encoder_net = EncoderNetwork(xi_dim = 1, y_dim = 1, hidden_dim = 128, encoding_dim = 10)\n",
    "decoder_net = EmitterNetwork(input_dim = 10, hidden_dim = 2, output_dim = 1, scaler = 5) # [B, summary_dim] -> [B, xi_dim]\n",
    "design_net = DeepAdaptiveDesign(encoder_net = encoder_net,\n",
    "                                decoder_net = decoder_net,\n",
    "                                design_shape = design_shape, \n",
    "                                summary_variables=[\"outcomes\", \"designs\"])\n",
    "\n",
    "model_2 = PolynomialRegression(mask_sampler = mask_sampler,\n",
    "                                        prior_sampler = prior_sampler,\n",
    "                                        tau_sampler = random_num_obs,\n",
    "                                        design_generator = design_net,\n",
    "                                        sim_vars = {\"sigma\": 1.0})"
   ]
  },
  {
   "cell_type": "code",
   "execution_count": 36,
   "metadata": {},
   "outputs": [],
   "source": [
    "B = 64\n",
    "dataset = DataSet(batch_shape = torch.Size([B]), \n",
    "                    joint_model_1 = model_1,\n",
    "                    joint_model_2 = model_2)"
   ]
  },
  {
   "cell_type": "code",
   "execution_count": 47,
   "metadata": {},
   "outputs": [],
   "source": [
    "dataset.set_stage(2)"
   ]
  },
  {
   "cell_type": "code",
   "execution_count": 48,
   "metadata": {},
   "outputs": [],
   "source": [
    "test_sims = dataset.__getitem__(0)"
   ]
  },
  {
   "cell_type": "code",
   "execution_count": 24,
   "metadata": {},
   "outputs": [],
   "source": [
    "masks = test_sims[\"masks\"]\n",
    "params = test_sims[\"params\"]\n",
    "outcomes = test_sims[\"outcomes\"]\n",
    "designs = test_sims[\"designs\"]\n",
    "n_obs = test_sims[\"n_obs\"]**2"
   ]
  },
  {
   "cell_type": "code",
   "execution_count": 28,
   "metadata": {},
   "outputs": [
    {
     "name": "stdout",
     "output_type": "stream",
     "text": [
      "Shape of parameter mask torch.Size([64, 4])\n",
      "Shape of parameters torch.Size([64, 4])\n",
      "Shape of outcomes torch.Size([64, 4, 1])\n",
      "Shape of designs torch.Size([64, 4, 1])\n",
      "4.0\n"
     ]
    }
   ],
   "source": [
    "print(f\"Shape of parameter mask {masks.shape}\") # [B, model_dim]|\n",
    "print(f\"Shape of parameters {params.shape}\") # [B, param_dim]\n",
    "print(f\"Shape of outcomes {outcomes.shape}\") # [B, tau, y_dim]\n",
    "print(f\"Shape of designs {designs.shape}\") # [B, tau, xi_dim]\n",
    "print(n_obs[0].item()) # tau"
   ]
  },
  {
   "cell_type": "code",
   "execution_count": 29,
   "metadata": {},
   "outputs": [],
   "source": [
    "approximator.compile(optimizer=\"AdamW\")"
   ]
  },
  {
   "cell_type": "code",
   "execution_count": 30,
   "metadata": {},
   "outputs": [
    {
     "name": "stdout",
     "output_type": "stream",
     "text": [
      "\u001b[1m10/10\u001b[0m \u001b[32m━━━━━━━━━━━━━━━━━━━━\u001b[0m\u001b[37m\u001b[0m \u001b[1m7s\u001b[0m 691ms/step - inference/loss: 4.5827 - loss: 4.5827 - summary/loss: 0.0000e+00\n"
     ]
    },
    {
     "data": {
      "text/plain": [
       "<keras.src.callbacks.history.History at 0x12fbaf290>"
      ]
     },
     "execution_count": 30,
     "metadata": {},
     "output_type": "execute_result"
    }
   ],
   "source": [
    "approximator.fit(dataset, epochs=1, steps_per_epoch=10)"
   ]
  },
  {
   "cell_type": "code",
   "execution_count": 59,
   "metadata": {},
   "outputs": [],
   "source": [
    "num_test_samples = 64\n",
    "num_posterior_samples = 500\n",
    "\n",
    "test_sims = dataset.__getitem__(0)\n",
    "samples = approximator.sample(batch_shape=(num_test_samples, num_posterior_samples), data=test_sims)"
   ]
  },
  {
   "cell_type": "code",
   "execution_count": 61,
   "metadata": {},
   "outputs": [
    {
     "name": "stdout",
     "output_type": "stream",
     "text": [
      "dict_keys(['params', 'summaries'])\n"
     ]
    }
   ],
   "source": [
    "print(samples.keys())"
   ]
  },
  {
   "cell_type": "code",
   "execution_count": 63,
   "metadata": {},
   "outputs": [
    {
     "name": "stdout",
     "output_type": "stream",
     "text": [
      "torch.Size([64, 500, 4])\n"
     ]
    }
   ],
   "source": [
    "print(samples['params'].shape) # [num_test_samples, num_posterior_samples, param_dim]"
   ]
  },
  {
   "cell_type": "code",
   "execution_count": 29,
   "metadata": {},
   "outputs": [],
   "source": [
    "obs_data = {\"designs\": out[\"designs\"], \"outcomes\": out[\"outcomes\"], \"masks\": out[\"masks\"], \"n_obs\": out[\"n_obs\"]}\n",
    "# post_given_obs  = approximator.sample(batch_shape = (1, num_posterior_samples), data = obs_data)"
   ]
  },
  {
   "cell_type": "code",
   "execution_count": 31,
   "metadata": {},
   "outputs": [
    {
     "data": {
      "text/plain": [
       "torch.Size([1, 6, 4, 1])"
      ]
     },
     "execution_count": 31,
     "metadata": {},
     "output_type": "execute_result"
    }
   ],
   "source": [
    "obs_data[\"outcomes\"].shape"
   ]
  },
  {
   "cell_type": "code",
   "execution_count": 25,
   "metadata": {},
   "outputs": [
    {
     "data": {
      "text/plain": [
       "torch.Size([1, 4])"
      ]
     },
     "execution_count": 25,
     "metadata": {},
     "output_type": "execute_result"
    }
   ],
   "source": [
    "obs_data[\"masks\"].shape"
   ]
  },
  {
   "cell_type": "code",
   "execution_count": 26,
   "metadata": {},
   "outputs": [],
   "source": [
    "obs_data = {\"designs\": out[\"designs\"], \"outcomes\": out[\"outcomes\"]}"
   ]
  },
  {
   "cell_type": "code",
   "execution_count": 36,
   "metadata": {},
   "outputs": [
    {
     "data": {
      "text/plain": [
       "<function dict.values>"
      ]
     },
     "execution_count": 36,
     "metadata": {},
     "output_type": "execute_result"
    }
   ],
   "source": [
    "obs_data.values"
   ]
  },
  {
   "cell_type": "code",
   "execution_count": 27,
   "metadata": {},
   "outputs": [
    {
     "data": {
      "text/plain": [
       "torch.Size([1, 9, 1])"
      ]
     },
     "execution_count": 27,
     "metadata": {},
     "output_type": "execute_result"
    }
   ],
   "source": [
    "obs_data[\"outcomes\"].shape"
   ]
  },
  {
   "cell_type": "code",
   "execution_count": 28,
   "metadata": {},
   "outputs": [
    {
     "data": {
      "text/plain": [
       "torch.Size([1, 9, 2])"
      ]
     },
     "execution_count": 28,
     "metadata": {},
     "output_type": "execute_result"
    }
   ],
   "source": [
    "from bayesflow.utils import filter_concatenate\n",
    "\n",
    "filter_concatenate(obs_data, keys=[\"outcomes\", \"designs\"]).shape"
   ]
  },
  {
   "cell_type": "code",
   "execution_count": 29,
   "metadata": {},
   "outputs": [],
   "source": [
    "summary_out = summary_network(filter_concatenate(obs_data, keys=[\"outcomes\", \"designs\"]))"
   ]
  },
  {
   "cell_type": "code",
   "execution_count": 29,
   "metadata": {},
   "outputs": [],
   "source": [
    "decoder_net = EmitterNetwork(input_dim = 10, hidden_dim = 24, output_dim = 1)"
   ]
  },
  {
   "cell_type": "code",
   "execution_count": 30,
   "metadata": {},
   "outputs": [],
   "source": [
    "designs_net = DeepAdaptiveDesign(encoder_net=summary_network,\n",
    "                                 decoder_net = decoder_net,\n",
    "                                 design_shape = torch.Size([1]), \n",
    "                                 summary_variables=[\"outcomes\", \"designs\"])"
   ]
  },
  {
   "cell_type": "code",
   "execution_count": 31,
   "metadata": {},
   "outputs": [],
   "source": [
    "summary_batched = torch.randn(64, 10)"
   ]
  },
  {
   "cell_type": "code",
   "execution_count": 32,
   "metadata": {},
   "outputs": [
    {
     "data": {
      "text/plain": [
       "torch.Size([64, 10])"
      ]
     },
     "execution_count": 32,
     "metadata": {},
     "output_type": "execute_result"
    }
   ],
   "source": [
    "summary_batched.shape"
   ]
  },
  {
   "cell_type": "code",
   "execution_count": 33,
   "metadata": {},
   "outputs": [
    {
     "data": {
      "text/plain": [
       "torch.Size([64, 1])"
      ]
     },
     "execution_count": 33,
     "metadata": {},
     "output_type": "execute_result"
    }
   ],
   "source": [
    "decoder_net(summary_batched).shape"
   ]
  },
  {
   "cell_type": "code",
   "execution_count": 34,
   "metadata": {},
   "outputs": [],
   "source": [
    "tensor = torch.empty((0, 1, 1))"
   ]
  },
  {
   "cell_type": "code",
   "execution_count": 36,
   "metadata": {},
   "outputs": [
    {
     "data": {
      "text/plain": [
       "0"
      ]
     },
     "execution_count": 36,
     "metadata": {},
     "output_type": "execute_result"
    }
   ],
   "source": [
    "tensor.shape[0]"
   ]
  },
  {
   "cell_type": "code",
   "execution_count": 40,
   "metadata": {},
   "outputs": [
    {
     "name": "stdout",
     "output_type": "stream",
     "text": [
      "tensor([[[1]],\n",
      "\n",
      "        [[1]],\n",
      "\n",
      "        [[1]]])\n"
     ]
    }
   ],
   "source": [
    "xi = torch.tensor([1])\n",
    "\n",
    "# Adding two singleton dimensions and repeating\n",
    "B = 3  # Example size for repetition\n",
    "expanded_xi = xi.view(1, 1, 1).repeat(B, 1, 1)\n",
    "\n",
    "print(expanded_xi)"
   ]
  },
  {
   "cell_type": "code",
   "execution_count": 41,
   "metadata": {},
   "outputs": [
    {
     "data": {
      "text/plain": [
       "torch.Size([3, 1, 1])"
      ]
     },
     "execution_count": 41,
     "metadata": {},
     "output_type": "execute_result"
    }
   ],
   "source": [
    "expanded_xi.shape"
   ]
  },
  {
   "cell_type": "code",
   "execution_count": null,
   "metadata": {},
   "outputs": [],
   "source": []
  }
 ],
 "metadata": {
  "kernelspec": {
   "display_name": "bayesflow",
   "language": "python",
   "name": "python3"
  },
  "language_info": {
   "codemirror_mode": {
    "name": "ipython",
    "version": 3
   },
   "file_extension": ".py",
   "mimetype": "text/x-python",
   "name": "python",
   "nbconvert_exporter": "python",
   "pygments_lexer": "ipython3",
   "version": "3.11.9"
  }
 },
 "nbformat": 4,
 "nbformat_minor": 2
}
